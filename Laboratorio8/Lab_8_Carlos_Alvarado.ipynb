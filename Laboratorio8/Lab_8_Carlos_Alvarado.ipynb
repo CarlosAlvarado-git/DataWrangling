{
 "cells": [
  {
   "cell_type": "raw",
   "id": "b3aec1af",
   "metadata": {},
   "source": [
    "# Laboratorio #8 - Missing Data and Feature Engineering"
   ]
  },
  {
   "cell_type": "markdown",
   "id": "52571da5",
   "metadata": {},
   "source": [
    "1.\tReporte detallado de missing data para todas las columnas. "
   ]
  },
  {
   "cell_type": "raw",
   "id": "cd64b26e",
   "metadata": {},
   "source": [
    "Las columanas: Sex, Age, SibSp, Parch, Fare, Embarked. Cuentan con missing data"
   ]
  },
  {
   "cell_type": "raw",
   "id": "b9eed1d5",
   "metadata": {},
   "source": [
    "En este caso Sex, tiene valores de: male, female y ?. Por lo que se toma el ? como missing data.\n",
    "En la columana de Age, hay con espacios vacios que son considerados como missing data.\n",
    "    La columna maneja datos de tipo integer y doubles.\n",
    "La columna de Fare son los precios de los tickets. Maneja datos de tipo doubles.\n",
    "La columna Parch, presenta un tipo de missing data donde literalemente contiene NA, pero de tipo String y no de NaN que maneja python. \n",
    "    Cuenta con 0,1,2,4 como valores\n",
    "Para Fare, hay missing data por espacios en blanco. \n",
    "    Fare cuenta con valores de tipo double\n",
    "En la columna embarked, hay espacios vaciós, por lo tanto son contados como missing data. \n",
    "    Cuenta con S y C como los únicos valores. "
   ]
  },
  {
   "cell_type": "markdown",
   "id": "80938027",
   "metadata": {},
   "source": [
    "2.\tPara cada columna especificar qué tipo de modelo se utilizará (solo el nombre y el porqué) y qué valores se le darán a todos los missing values. (Ej. Imputación sectorizada por la moda, bins, y cualquier otro método visto anteriormente). "
   ]
  },
  {
   "cell_type": "raw",
   "id": "a7936005",
   "metadata": {},
   "source": [
    "Sex: para esta colúmna se haría una imputación sectorizada, debido a que esta nos va a permitir acercarnos un poco más a los deatos reales. Los factores como edad, la fare, y el embarked posiblemente nos pueden decir si es hombre o mujer, pero eso se vería más haciendo una pairwise para saber cuales tienen más correlación con el sexo y utilizarlo en la imputación. \n",
    "Age: En este caso se haría una regresión lineal, para poder predecirlo de mejor manera. Los valores que irían para módelo con la edad, la clase y (SibSP o Parch) ya que relaciona la edad con la cantidad de familiares que van en el barco también, otra opción puede ser la edad y el Fare sólamente, o la edad y clase.\n",
    "SibSp: Los sibSp podría utilizar una imputación de fill, es decir, que el valor anterior sea asignado al que está vacio, ya que en este caso, la data no cuenta con muchos missing values seguidos en la columna, por lo que no sesgaría la data. \n",
    "Parch: de igual manera, utilizaría fill, ya que no cuenta con muchos missing values seguidos de la columna y por lo tanto no sesgaría la data. \n",
    "Fare: En este caso utilizaría outliters donde pondría un rango entre el 10% y 95%, y haría un cap, así traería los valores hacia mi 10% o el 95% aquellos que se pasan o no llegan, ya que considero que por las clases, los precios prodrían estar en ese margen y que por lo tanto, permitirían un análisis un poco más certero. \n",
    "Embarked: Por sen tan pocos los missing values, utilizaría el método de fill, ya que la separación de esos missing values en la columna es lo suficiente para que no sesge la data. "
   ]
  },
  {
   "cell_type": "markdown",
   "id": "65156e9f",
   "metadata": {},
   "source": [
    "3.\tReporte de qué filas están completas "
   ]
  },
  {
   "cell_type": "raw",
   "id": "a8d9e68f",
   "metadata": {},
   "source": [
    "Passanger ID: columna completa con el ID del pasagero, son de tipo integer. \n",
    "Survived: columan con valores de 0 y 1, que determinan si el pasagero murio (0) o sobrevivio (1).\n",
    "Pclass: columna que muestra en que clase viajaba el pasajero, en este caso cuenta de 1 hasta 3 clase. \n",
    "Name: los nombres de los pasajeros si está registrado por completo. \n",
    "Ticket: los tickes muestran el boleto que compro la persona, por lo que me intriga aquellos datos que cuenta con valores que parecen ser varios tickets. \n",
    "Cabin: la cabina en la que el pasajero estuvo o en la que fue asignado probablemente durante el viaje. \n"
   ]
  }
 ],
 "metadata": {
  "kernelspec": {
   "display_name": "Python 3 (ipykernel)",
   "language": "python",
   "name": "python3"
  },
  "language_info": {
   "codemirror_mode": {
    "name": "ipython",
    "version": 3
   },
   "file_extension": ".py",
   "mimetype": "text/x-python",
   "name": "python",
   "nbconvert_exporter": "python",
   "pygments_lexer": "ipython3",
   "version": "3.9.12"
  }
 },
 "nbformat": 4,
 "nbformat_minor": 5
}
