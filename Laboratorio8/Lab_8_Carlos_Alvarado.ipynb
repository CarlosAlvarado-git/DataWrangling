{
 "cells": [
  {
   "cell_type": "raw",
   "id": "b3aec1af",
   "metadata": {},
   "source": [
    "# Laboratorio #8 - Missing Data and Feature Engineering"
   ]
  },
  {
   "cell_type": "markdown",
   "id": "52571da5",
   "metadata": {},
   "source": [
    "#1.\tReporte detallado de missing data para todas las columnas. "
   ]
  },
  {
   "cell_type": "raw",
   "id": "cd64b26e",
   "metadata": {},
   "source": [
    "Las columanas: Sex, Age, SibSp, Parch, Fare, Embarked. Cuentan con missing data"
   ]
  },
  {
   "cell_type": "raw",
   "id": "b9eed1d5",
   "metadata": {},
   "source": [
    "En este caso Sex, tiene valores de: male, female y ?. Por lo que se toma el ? como missing data.\n",
    "En la columana de Age, hay con espacios vacios que son considerados como missing data.\n",
    "    La columna maneja datos de tipo integer y doubles.\n",
    "La columna Parch, presenta un tipo de missing data donde literalemente contiene NA, pero de tipo String y no de NaN que maneja python. \n",
    "    Cuenta con 0,1,2,4 como valores\n",
    "Para Fare, hay missing data por espacios en blanco. \n",
    "    Fare cuenta con valores de tipo double\n",
    "En la columna embarked, hay espacios vaciós, por lo tanto son contados como missing data. \n",
    "    Cuenta con S y C como los únicos valores. "
   ]
  },
  {
   "cell_type": "markdown",
   "id": "80938027",
   "metadata": {},
   "source": [
    "#2.\tPara cada columna especificar qué tipo de modelo se utilizará (solo el nombre y el porqué) y qué valores se le darán a todos los missing values. (Ej. Imputación sectorizada por la moda, bins, y cualquier otro método visto anteriormente). "
   ]
  },
  {
   "cell_type": "raw",
   "id": "a7936005",
   "metadata": {},
   "source": [
    "Sex: para esta colúmna "
   ]
  }
 ],
 "metadata": {
  "kernelspec": {
   "display_name": "Python 3 (ipykernel)",
   "language": "python",
   "name": "python3"
  },
  "language_info": {
   "codemirror_mode": {
    "name": "ipython",
    "version": 3
   },
   "file_extension": ".py",
   "mimetype": "text/x-python",
   "name": "python",
   "nbconvert_exporter": "python",
   "pygments_lexer": "ipython3",
   "version": "3.9.12"
  }
 },
 "nbformat": 4,
 "nbformat_minor": 5
}
