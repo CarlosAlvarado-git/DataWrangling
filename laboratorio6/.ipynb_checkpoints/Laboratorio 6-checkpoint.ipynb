{
 "cells": [
  {
   "cell_type": "code",
   "execution_count": 3,
   "id": "aca21182",
   "metadata": {},
   "outputs": [],
   "source": [
    "import re"
   ]
  },
  {
   "cell_type": "code",
   "execution_count": 3,
   "id": "105c6cc1",
   "metadata": {},
   "outputs": [],
   "source": [
    "#1.\tGenere una expresión regular que sea\n",
    "# capaz de detectar las placas de un vehículo particular guatemalteco.\n",
    "\n",
    "# P123SAM"
   ]
  },
  {
   "cell_type": "code",
   "execution_count": 31,
   "id": "f769a631",
   "metadata": {},
   "outputs": [],
   "source": [
    "string_1 = \"P123SJM\"\n",
    "pattern_dot = r\"\\bP[0-9]{3}[B|C|D|F|G|H|J|K|L|M|N|P|Q|R|S|T|V|X|Z|W|Y]{3}\\b\""
   ]
  },
  {
   "cell_type": "code",
   "execution_count": 32,
   "id": "03a05ac5",
   "metadata": {},
   "outputs": [
    {
     "data": {
      "text/plain": [
       "['P123SJM']"
      ]
     },
     "execution_count": 32,
     "metadata": {},
     "output_type": "execute_result"
    }
   ],
   "source": [
    "re.findall(pattern_dot,string_1)"
   ]
  },
  {
   "cell_type": "code",
   "execution_count": 47,
   "id": "81b8ec61",
   "metadata": {},
   "outputs": [],
   "source": [
    "#2.\tGenere una expresión regular que valide si un archivo es de tipo .pdf o jpg.\n",
    "#a.\tEjemplo1.pdf, prueba2.PDF, respuestas_del_examen.jpg, amor.JPG\n"
   ]
  },
  {
   "cell_type": "code",
   "execution_count": 36,
   "id": "2b912f0c",
   "metadata": {},
   "outputs": [],
   "source": [
    "string_1 = \"Ejemplo1.pdf, prueba2.PDF, respuestas_del_examen.jpg, amor.JPG\"\n",
    "string_2 = \"Ejemplo1.pdf\"\n",
    "pattern_dot1 = r\"(^.+\\.(pdf|PDF|JPG|jpg))$\"\n",
    "# esta no funciona con una expresion larga, es decir, como el string1 porque, como defino que\n",
    "# venga cualquier caracter, agrega las comas y por ende, une todo hasta encontrar el .algo\n",
    "# pero con string 2, si funciona. Se podría ver la forma de elimiar las , u otro caracter. pero mejor poner\n",
    "# las letras en específico. \n",
    "pattern_dot = r\"([A-Za-z0-9]+\\.jpg|[A-Za-z0-9]+\\.pdf|[A-Za-z0-9]+\\.PDF|[A-Za-z0-9]+\\.JPG)\"\n",
    "# esta ya limita que no vengan las comas. "
   ]
  },
  {
   "cell_type": "code",
   "execution_count": 37,
   "id": "e371b024",
   "metadata": {},
   "outputs": [
    {
     "data": {
      "text/plain": [
       "['Ejemplo1.pdf', 'prueba2.PDF', 'examen.jpg', 'amor.JPG']"
      ]
     },
     "execution_count": 37,
     "metadata": {},
     "output_type": "execute_result"
    }
   ],
   "source": [
    "re.findall(pattern_dot,string_1)"
   ]
  },
  {
   "cell_type": "code",
   "execution_count": null,
   "id": "d4073a69",
   "metadata": {},
   "outputs": [],
   "source": [
    "# 3.\tGenere una expresión regular para validar contraseñas de correo. \n",
    "# Una contraseña de correo debe contener por lo menos 8 caracteres, una letra mayúscula y un carácter especial."
   ]
  },
  {
   "cell_type": "code",
   "execution_count": 87,
   "id": "121c0a71",
   "metadata": {},
   "outputs": [],
   "source": [
    "string_1 = \"c3rlos_A\"\n",
    "string_2 = \"12345678\"\n",
    "pattern_dot = r\"^\" + \"(?=.*[@#$%&_])\" +\"(?=.*[A-Z])\" +\"(?=\\\\S+$)\"+ \".{8,}\" + \"$\"\n",
    "\n",
    "# el + entre las expresiones, permite unirlos, sin especificar que ese deba ser el órden que\n",
    "# deben cumplir.\n",
    "# \"(?=\\\\S+$)\" no incluye los espacios en blanco, por lo que Carlo 3%1, no es contraseña válida.\n",
    "# debe contener uno de los caracters que se en cuentra  [@#$%&], gracias al ?, especificando que es opciona, pero\n",
    "# sí debe venir en toda la cadena. Al igual que: [A-Z]. \n",
    "# la parte de {8,} lo que quiere decir es al menos 8 caracteres con las especifiaciones pasadas."
   ]
  },
  {
   "cell_type": "code",
   "execution_count": 88,
   "id": "268c1b90",
   "metadata": {},
   "outputs": [
    {
     "data": {
      "text/plain": [
       "['c3rlos_A']"
      ]
     },
     "execution_count": 88,
     "metadata": {},
     "output_type": "execute_result"
    }
   ],
   "source": [
    "re.findall(pattern_dot,string_1)"
   ]
  },
  {
   "cell_type": "code",
   "execution_count": null,
   "id": "ef722390",
   "metadata": {},
   "outputs": [],
   "source": [
    "#4.\tCree una expresión regular para validar un numero de carnet de la Universidad Galileo,\n",
    "# por ejemplo 19002324 donde los primeros dos dígitos representan el año en el que el alumno\n",
    "# se inscribió los cuales pueden variar desde el 01 (año 2001) hasta el 30 (año 2030). \n",
    "# Los siguientes dos dígitos son cero (00) los cuales van por default y los últimos cuatro dígitos \n",
    "# son un número que va desde el 1110 hasta el 8970. Para dar su respuesta utilice la notación de \n",
    "# expresiones regulares."
   ]
  },
  {
   "cell_type": "code",
   "execution_count": 104,
   "id": "33a75aec",
   "metadata": {},
   "outputs": [],
   "source": [
    "string_1 = \"19008970\"\n",
    "pattern_dot = r\"((0[1-9]|[1-2][0-9]|30)(00)(1[1-9][1-9][0-9]|[2-7][0-9]{3}|[8][0-9][0-7][0]))\"\n",
    "# printea cada 19, 00, 8970 porque tendría que crear para cada caso del inicio, los siguientes caso, es decir\n",
    "# algo parecido al caso del ejercicio 2. de los pdf, jpgm etc."
   ]
  },
  {
   "cell_type": "code",
   "execution_count": 105,
   "id": "b7b4c05e",
   "metadata": {},
   "outputs": [
    {
     "data": {
      "text/plain": [
       "[('19008970', '19', '00', '8970')]"
      ]
     },
     "execution_count": 105,
     "metadata": {},
     "output_type": "execute_result"
    }
   ],
   "source": [
    "re.findall(pattern_dot,string_1)"
   ]
  },
  {
   "cell_type": "code",
   "execution_count": null,
   "id": "323168fc",
   "metadata": {},
   "outputs": [],
   "source": [
    "# 5.\tCree una expresión regular que encuentre todas las palabras de la primera línea, pero ninguna de la segunda.\n",
    "\n",
    "#a.\tpit, spot, spate, slap two, respite\n",
    "#b.\tpt,Pot,peat,part\n"
   ]
  },
  {
   "cell_type": "code",
   "execution_count": 117,
   "id": "020bbb5f",
   "metadata": {},
   "outputs": [],
   "source": [
    "string_1 = \"respite Pot\"\n",
    "pattern_dot = r\"pit|spot|spate|slap|two|respite\""
   ]
  },
  {
   "cell_type": "code",
   "execution_count": 118,
   "id": "8ebc9d66",
   "metadata": {},
   "outputs": [
    {
     "data": {
      "text/plain": [
       "['respite']"
      ]
     },
     "execution_count": 118,
     "metadata": {},
     "output_type": "execute_result"
    }
   ],
   "source": [
    "re.findall(pattern_dot,string_1)"
   ]
  },
  {
   "cell_type": "code",
   "execution_count": null,
   "id": "6bb88d24",
   "metadata": {},
   "outputs": [],
   "source": [
    "#6.\tCree una expresión regular para obtener los números telefónicos de Guatemala. \n",
    "# Estos pueden contener al inicio +502 o 502, pueden estar separados por un espacio en\n",
    "# blanco o un guión o juntos. Notar que los números telefónicos pueden empezar únicamente con 4,5,6 o 2.\n",
    "\n",
    "# a.\t+50254821151, 4210-7640, 52018150, 2434 6854, 11234569, 50211234578\n"
   ]
  },
  {
   "cell_type": "code",
   "execution_count": 121,
   "id": "e801fbc1",
   "metadata": {},
   "outputs": [],
   "source": [
    "string_1 = \"52018150\"\n",
    "pattern_dot = r\"((\\+502|502|)((4|5|6|2)\\d{3})(\\s|-|)(\\d{4}))\""
   ]
  },
  {
   "cell_type": "code",
   "execution_count": 122,
   "id": "10140e18",
   "metadata": {},
   "outputs": [
    {
     "data": {
      "text/plain": [
       "[('52018150', '', '5201', '5', '', '8150')]"
      ]
     },
     "execution_count": 122,
     "metadata": {},
     "output_type": "execute_result"
    }
   ],
   "source": [
    "re.findall(pattern_dot,string_1)"
   ]
  },
  {
   "cell_type": "code",
   "execution_count": 124,
   "id": "4d9ac381",
   "metadata": {},
   "outputs": [],
   "source": [
    "# 7.\tGenere una expresión regular que sea capaz de obtener correos de la UFM."
   ]
  },
  {
   "cell_type": "code",
   "execution_count": 140,
   "id": "7b15c185",
   "metadata": {},
   "outputs": [],
   "source": [
    "#Los nombres de usuario no pueden contener signos \"&\", signos igual (=), guiones bajos (_), apóstrofos ('), guiones (-), signos más (+), comas (,), corchetes angulares (<,>) ni más de un punto (.)\n",
    "string_1 = \"cmalvarado@ufm.edu\"\n",
    "pattern_dot = r\"\\b((^[^@&=,%+<>\\.]+)(@)(ufm)(\\.)(edu))\\b\""
   ]
  },
  {
   "cell_type": "code",
   "execution_count": 141,
   "id": "8373640f",
   "metadata": {},
   "outputs": [
    {
     "data": {
      "text/plain": [
       "[('cmalvarado@ufm.edu', 'cmalvarado', '@', 'ufm', '.', 'edu')]"
      ]
     },
     "execution_count": 141,
     "metadata": {},
     "output_type": "execute_result"
    }
   ],
   "source": [
    "re.findall(pattern_dot,string_1)"
   ]
  },
  {
   "cell_type": "code",
   "execution_count": 304,
   "id": "c0289f95",
   "metadata": {},
   "outputs": [],
   "source": [
    "# 8.\tEn el mundo distópico de Eurasia, Big Brother le asigna un identificador único a cada ciudadano. Genere una expresión regular que valide las identificaciones. Composición del id:\n",
    "# a.\tEl id inicia con 0 a 3 letras minúsculas (puede tener 0 letras minúsculas hasta tres letras minúsculas)\n",
    "\n",
    "# b.\tLuego es seguido por una cadena de dígitos que puede ser de 2 a 9 dígitos respectivamente.\n",
    "# c.\tInmediatamente después de la cadena de dígitos, se encuentra por lo menos tres letras mayúsculas.\n",
    "# d.\tEj: abc012333ABCDEEEE\n",
    "string_1 = \"abc012333ABCDEEEE\"\n",
    "pattern_dot = r\"^\\b([a-z]{0,3}[0-9]{2,9})\" +\"(?=.*[A-Z]){3,}\" \n",
    "# me faltaba agregar el \"al menos 3 mayusculas\"\n",
    "# la de abajo, dice lo mismo,pero el en temas de por lo menos en todo. se deben de cumplir las tres. al mismo timepo\n",
    "# y a parte de {5,} es ecencial, porque si empiezo con 0 toma culaquier string. no que con 0, al menos cubre más casos.\n",
    "pattern_dot = r\"^\" + \"(?=[a-z]){0,3}\" + \"(?=.*[0-9]){2,9}\" +\"(?=..+[A-Z]){3,}\" +\"(?=\\\\S+$)\"+ \".{0,}\" + \"$\""
   ]
  },
  {
   "cell_type": "code",
   "execution_count": 302,
   "id": "1131ab36",
   "metadata": {},
   "outputs": [
    {
     "data": {
      "text/plain": [
       "['a1BBB']"
      ]
     },
     "execution_count": 302,
     "metadata": {},
     "output_type": "execute_result"
    }
   ],
   "source": [
    "re.findall(pattern_dot,string_1)"
   ]
  }
 ],
 "metadata": {
  "kernelspec": {
   "display_name": "Python 3 (ipykernel)",
   "language": "python",
   "name": "python3"
  },
  "language_info": {
   "codemirror_mode": {
    "name": "ipython",
    "version": 3
   },
   "file_extension": ".py",
   "mimetype": "text/x-python",
   "name": "python",
   "nbconvert_exporter": "python",
   "pygments_lexer": "ipython3",
   "version": "3.8.13"
  }
 },
 "nbformat": 4,
 "nbformat_minor": 5
}
