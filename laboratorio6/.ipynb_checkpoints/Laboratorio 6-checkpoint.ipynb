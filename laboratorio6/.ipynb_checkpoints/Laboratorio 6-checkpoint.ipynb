{
 "cells": [
  {
   "cell_type": "code",
   "execution_count": 191,
   "id": "aca21182",
   "metadata": {},
   "outputs": [],
   "source": [
    "import re"
   ]
  },
  {
   "cell_type": "code",
   "execution_count": 3,
   "id": "105c6cc1",
   "metadata": {},
   "outputs": [],
   "source": [
    "#1.\tGenere una expresión regular que sea\n",
    "# capaz de detectar las placas de un vehículo particular guatemalteco.\n",
    "\n",
    "# P123SAM"
   ]
  },
  {
   "cell_type": "code",
   "execution_count": 31,
   "id": "f769a631",
   "metadata": {},
   "outputs": [],
   "source": [
    "string_1 = \"P123SJM\"\n",
    "pattern_dot = r\"\\bP[0-9]{3}[B|C|D|F|G|H|J|K|L|M|N|P|Q|R|S|T|V|X|Z|W|Y]{3}\\b\""
   ]
  },
  {
   "cell_type": "code",
   "execution_count": 32,
   "id": "03a05ac5",
   "metadata": {},
   "outputs": [
    {
     "data": {
      "text/plain": [
       "['P123SJM']"
      ]
     },
     "execution_count": 32,
     "metadata": {},
     "output_type": "execute_result"
    }
   ],
   "source": [
    "re.findall(pattern_dot,string_1)"
   ]
  },
  {
   "cell_type": "code",
   "execution_count": 47,
   "id": "81b8ec61",
   "metadata": {},
   "outputs": [],
   "source": [
    "#2.\tGenere una expresión regular que valide si un archivo es de tipo .pdf o jpg.\n",
    "#a.\tEjemplo1.pdf, prueba2.PDF, respuestas_del_examen.jpg, amor.JPG\n"
   ]
  },
  {
   "cell_type": "code",
   "execution_count": 136,
   "id": "2b912f0c",
   "metadata": {},
   "outputs": [],
   "source": [
    "string_1 = \"Ejemplo1.Jpg\"\n",
    "pattern_dot = r\"^.+\\.(?:(?:[j][p][g]?)|(?:[p][d][f])|(?:[J][P][G]?)|(?:[P][D][F]?))$\""
   ]
  },
  {
   "cell_type": "code",
   "execution_count": 137,
   "id": "e371b024",
   "metadata": {},
   "outputs": [
    {
     "data": {
      "text/plain": [
       "[]"
      ]
     },
     "execution_count": 137,
     "metadata": {},
     "output_type": "execute_result"
    }
   ],
   "source": [
    "re.findall(pattern_dot,string_1)"
   ]
  },
  {
   "cell_type": "code",
   "execution_count": null,
   "id": "d4073a69",
   "metadata": {},
   "outputs": [],
   "source": [
    "# 3.\tGenere una expresión regular para validar contraseñas de correo. \n",
    "# Una contraseña de correo debe contener por lo menos 8 caracteres, una letra mayúscula y un carácter especial."
   ]
  },
  {
   "cell_type": "code",
   "execution_count": 415,
   "id": "121c0a71",
   "metadata": {},
   "outputs": [],
   "source": [
    "string_1 = \"Carlos$14\"\n",
    "pattern_dot = r\"^\" + \"(?=.*[@#$%^&+=])\" +\"(?=.*[A-Z])\" + \"(?=\\\\S+$)\" + \".{6,}\" + \"$\""
   ]
  },
  {
   "cell_type": "code",
   "execution_count": 414,
   "id": "268c1b90",
   "metadata": {},
   "outputs": [
    {
     "data": {
      "text/plain": [
       "['Carlos$14']"
      ]
     },
     "execution_count": 414,
     "metadata": {},
     "output_type": "execute_result"
    }
   ],
   "source": [
    "re.findall(pattern_dot,string_1)"
   ]
  },
  {
   "cell_type": "code",
   "execution_count": null,
   "id": "ef722390",
   "metadata": {},
   "outputs": [],
   "source": [
    "#4.\tCree una expresión regular para validar un numero de carnet de la Universidad Galileo,\n",
    "# por ejemplo 19002324 donde los primeros dos dígitos representan el año en el que el alumno\n",
    "# se inscribió los cuales pueden variar desde el 01 (año 2001) hasta el 30 (año 2030). \n",
    "# Los siguientes dos dígitos son cero (00) los cuales van por default y los últimos cuatro dígitos \n",
    "# son un número que va desde el 1110 hasta el 8970. Para dar su respuesta utilice la notación de \n",
    "# expresiones regulares."
   ]
  },
  {
   "cell_type": "code",
   "execution_count": 276,
   "id": "33a75aec",
   "metadata": {},
   "outputs": [],
   "source": [
    "string_1 = \"19008970\"\n",
    "pattern_dot = r\"((0[1-9]|[1-2][0-9]|30)(00)(1[1-9][1-9][0-9]|[2-7][0-9]{3}|[8][0-7][0-9][0]))\""
   ]
  },
  {
   "cell_type": "code",
   "execution_count": 277,
   "id": "b7b4c05e",
   "metadata": {},
   "outputs": [
    {
     "data": {
      "text/plain": [
       "[]"
      ]
     },
     "execution_count": 277,
     "metadata": {},
     "output_type": "execute_result"
    }
   ],
   "source": [
    "re.findall(pattern_dot,string_1)"
   ]
  },
  {
   "cell_type": "code",
   "execution_count": null,
   "id": "323168fc",
   "metadata": {},
   "outputs": [],
   "source": [
    "# 5.\tCree una expresión regular que encuentre todas las palabras de la primera línea, pero ninguna de la segunda.\n",
    "\n",
    "#a.\tpit, spot, spate, slap two, respite\n",
    "#b.\tpt,Pot,peat,part\n"
   ]
  },
  {
   "cell_type": "code",
   "execution_count": 290,
   "id": "020bbb5f",
   "metadata": {},
   "outputs": [],
   "source": [
    "string_1 = \"spate\"\n",
    "pattern_dot = r\"pit|spot|spate|slap|two|respite\""
   ]
  },
  {
   "cell_type": "code",
   "execution_count": 291,
   "id": "8ebc9d66",
   "metadata": {},
   "outputs": [
    {
     "data": {
      "text/plain": [
       "['spate']"
      ]
     },
     "execution_count": 291,
     "metadata": {},
     "output_type": "execute_result"
    }
   ],
   "source": [
    "re.findall(pattern_dot,string_1)"
   ]
  },
  {
   "cell_type": "code",
   "execution_count": null,
   "id": "6bb88d24",
   "metadata": {},
   "outputs": [],
   "source": [
    "#6.\tCree una expresión regular para obtener los números telefónicos de Guatemala. \n",
    "# Estos pueden contener al inicio +502 o 502, pueden estar separados por un espacio en\n",
    "# blanco o un guión o juntos. Notar que los números telefónicos pueden empezar únicamente con 4,5,6 o 2.\n",
    "\n",
    "# a.\t+50254821151, 4210-7640, 52018150, 2434 6854, 11234569, 50211234578\n"
   ]
  },
  {
   "cell_type": "code",
   "execution_count": 324,
   "id": "e801fbc1",
   "metadata": {},
   "outputs": [],
   "source": [
    "string_1 = \"11234569\"\n",
    "pattern_dot = r\"((\\+502|502|)((4|5|6|2)\\d{3})(\\s|-|)(\\d{4}))\""
   ]
  },
  {
   "cell_type": "code",
   "execution_count": 325,
   "id": "10140e18",
   "metadata": {},
   "outputs": [
    {
     "data": {
      "text/plain": [
       "[]"
      ]
     },
     "execution_count": 325,
     "metadata": {},
     "output_type": "execute_result"
    }
   ],
   "source": [
    "re.findall(pattern_dot,string_1)"
   ]
  },
  {
   "cell_type": "code",
   "execution_count": null,
   "id": "4d9ac381",
   "metadata": {},
   "outputs": [],
   "source": [
    "# 7.\tGenere una expresión regular que sea capaz de obtener correos de la UFM."
   ]
  },
  {
   "cell_type": "code",
   "execution_count": 346,
   "id": "7b15c185",
   "metadata": {},
   "outputs": [],
   "source": [
    "Los nombres de usuario no pueden contener signos \"&\", signos igual (=), guiones bajos (_), apóstrofos ('), guiones (-), signos más (+), comas (,), corchetes angulares (<,>) ni más de un punto (.)\n",
    "string_1 = \"cma%lvarado@ufm.edu\"\n",
    "pattern_dot = r\"\\b((^[^@]+)(@)(ufm)(\\.)(edu))\\b\""
   ]
  },
  {
   "cell_type": "code",
   "execution_count": 347,
   "id": "8373640f",
   "metadata": {},
   "outputs": [
    {
     "data": {
      "text/plain": [
       "[('cma%lvarado@ufm.edu', 'cma%lvarado', '@', 'ufm', '.', 'edu')]"
      ]
     },
     "execution_count": 347,
     "metadata": {},
     "output_type": "execute_result"
    }
   ],
   "source": [
    "re.findall(pattern_dot,string_1)"
   ]
  },
  {
   "cell_type": "code",
   "execution_count": null,
   "id": "c0289f95",
   "metadata": {},
   "outputs": [],
   "source": [
    "# 8.\tEn el mundo distópico de Eurasia, Big Brother le asigna un identificador único a cada ciudadano. Genere una expresión regular que valide las identificaciones. Composición del id:\n",
    "# a.\tEl id inicia con 0 a 3 letras minúsculas (puede tener 0 letras minúsculas hasta tres letras minúsculas)\n",
    "\n",
    "# b.\tLuego es seguido por una cadena de dígitos que puede ser de 2 a 9 dígitos respectivamente.\n",
    "# c.\tInmediatamente después de la cadena de dígitos, se encuentra por lo menos tres letras mayúsculas.\n",
    "# d.\tEj: abc012333ABCDEEEE\n"
   ]
  }
 ],
 "metadata": {
  "kernelspec": {
   "display_name": "Python 3 (ipykernel)",
   "language": "python",
   "name": "python3"
  },
  "language_info": {
   "codemirror_mode": {
    "name": "ipython",
    "version": 3
   },
   "file_extension": ".py",
   "mimetype": "text/x-python",
   "name": "python",
   "nbconvert_exporter": "python",
   "pygments_lexer": "ipython3",
   "version": "3.8.13"
  }
 },
 "nbformat": 4,
 "nbformat_minor": 5
}
